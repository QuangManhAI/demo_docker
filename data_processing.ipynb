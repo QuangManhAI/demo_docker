{
 "cells": [
  {
   "cell_type": "code",
   "execution_count": null,
   "id": "73ff7ae3",
   "metadata": {},
   "outputs": [],
   "source": [
    "# timport các thư viện cần thiết để xử lsi dữ liệu, trực quan hóa, huấn luyện mô hình, API\n",
    "import numpy as np\n",
    "import pandas as pd\n",
    "import matplotlib.pyplot as plt\n",
    "from tqdm import tqdm\n",
    "import joblib\n",
    "from sklearn.preprocessing import StandardScaler\n",
    "from sklearn.model_selection import train_test_split\n",
    "import torch\n",
    "import torch.nn as nn\n",
    "from torch.utils.data import TensorDataset, DataLoader\n",
    "from sklearn.metrics import mean_absolute_error, r2_score\n"
   ]
  },
  {
   "cell_type": "code",
   "execution_count": null,
   "id": "13aa3180",
   "metadata": {},
   "outputs": [
    {
     "name": "stdout",
     "output_type": "stream",
     "text": [
      "Using device: cuda\n"
     ]
    }
   ],
   "source": [
    "# Kiểm tra và sử dụng GPU trong huấn luyện\n",
    "device = torch.device(\"cuda\" if torch.cuda.is_available() else \"cpu\")\n",
    "print(\"Using device:\", device)"
   ]
  },
  {
   "cell_type": "code",
   "execution_count": null,
   "id": "ed355e0a",
   "metadata": {},
   "outputs": [],
   "source": [
    "# Đẩy dữ liệu file CSV vào bằng pandas. dưới dạng dataFrame\n",
    "df_raw = pd.read_csv('Air_Traffic_Passenger_Statistics.csv')\n",
    "# Tạo bản sao trên dữ liệu gốc, đảm bảo an toàn.\n",
    "df = df_raw.copy()"
   ]
  },
  {
   "cell_type": "code",
   "execution_count": null,
   "id": "15b25b4a",
   "metadata": {},
   "outputs": [
    {
     "data": {
      "text/html": [
       "<div>\n",
       "<style scoped>\n",
       "    .dataframe tbody tr th:only-of-type {\n",
       "        vertical-align: middle;\n",
       "    }\n",
       "\n",
       "    .dataframe tbody tr th {\n",
       "        vertical-align: top;\n",
       "    }\n",
       "\n",
       "    .dataframe thead th {\n",
       "        text-align: right;\n",
       "    }\n",
       "</style>\n",
       "<table border=\"1\" class=\"dataframe\">\n",
       "  <thead>\n",
       "    <tr style=\"text-align: right;\">\n",
       "      <th></th>\n",
       "      <th>index</th>\n",
       "      <th>Activity Period</th>\n",
       "      <th>Operating Airline</th>\n",
       "      <th>Operating Airline IATA Code</th>\n",
       "      <th>Published Airline</th>\n",
       "      <th>Published Airline IATA Code</th>\n",
       "      <th>GEO Summary</th>\n",
       "      <th>GEO Region</th>\n",
       "      <th>Activity Type Code</th>\n",
       "      <th>Price Category Code</th>\n",
       "      <th>Terminal</th>\n",
       "      <th>Boarding Area</th>\n",
       "      <th>Passenger Count</th>\n",
       "      <th>Adjusted Activity Type Code</th>\n",
       "      <th>Adjusted Passenger Count</th>\n",
       "      <th>Year</th>\n",
       "      <th>Month</th>\n",
       "    </tr>\n",
       "  </thead>\n",
       "  <tbody>\n",
       "    <tr>\n",
       "      <th>0</th>\n",
       "      <td>0</td>\n",
       "      <td>200507</td>\n",
       "      <td>ATA Airlines</td>\n",
       "      <td>TZ</td>\n",
       "      <td>ATA Airlines</td>\n",
       "      <td>TZ</td>\n",
       "      <td>Domestic</td>\n",
       "      <td>US</td>\n",
       "      <td>Deplaned</td>\n",
       "      <td>Low Fare</td>\n",
       "      <td>Terminal 1</td>\n",
       "      <td>B</td>\n",
       "      <td>27271</td>\n",
       "      <td>Deplaned</td>\n",
       "      <td>27271</td>\n",
       "      <td>2005</td>\n",
       "      <td>July</td>\n",
       "    </tr>\n",
       "    <tr>\n",
       "      <th>1</th>\n",
       "      <td>1</td>\n",
       "      <td>200507</td>\n",
       "      <td>ATA Airlines</td>\n",
       "      <td>TZ</td>\n",
       "      <td>ATA Airlines</td>\n",
       "      <td>TZ</td>\n",
       "      <td>Domestic</td>\n",
       "      <td>US</td>\n",
       "      <td>Enplaned</td>\n",
       "      <td>Low Fare</td>\n",
       "      <td>Terminal 1</td>\n",
       "      <td>B</td>\n",
       "      <td>29131</td>\n",
       "      <td>Enplaned</td>\n",
       "      <td>29131</td>\n",
       "      <td>2005</td>\n",
       "      <td>July</td>\n",
       "    </tr>\n",
       "    <tr>\n",
       "      <th>2</th>\n",
       "      <td>2</td>\n",
       "      <td>200507</td>\n",
       "      <td>ATA Airlines</td>\n",
       "      <td>TZ</td>\n",
       "      <td>ATA Airlines</td>\n",
       "      <td>TZ</td>\n",
       "      <td>Domestic</td>\n",
       "      <td>US</td>\n",
       "      <td>Thru / Transit</td>\n",
       "      <td>Low Fare</td>\n",
       "      <td>Terminal 1</td>\n",
       "      <td>B</td>\n",
       "      <td>5415</td>\n",
       "      <td>Thru / Transit * 2</td>\n",
       "      <td>10830</td>\n",
       "      <td>2005</td>\n",
       "      <td>July</td>\n",
       "    </tr>\n",
       "  </tbody>\n",
       "</table>\n",
       "</div>"
      ],
      "text/plain": [
       "   index  Activity Period Operating Airline Operating Airline IATA Code  \\\n",
       "0      0           200507      ATA Airlines                          TZ   \n",
       "1      1           200507      ATA Airlines                          TZ   \n",
       "2      2           200507      ATA Airlines                          TZ   \n",
       "\n",
       "  Published Airline Published Airline IATA Code GEO Summary GEO Region  \\\n",
       "0      ATA Airlines                          TZ    Domestic         US   \n",
       "1      ATA Airlines                          TZ    Domestic         US   \n",
       "2      ATA Airlines                          TZ    Domestic         US   \n",
       "\n",
       "  Activity Type Code Price Category Code    Terminal Boarding Area  \\\n",
       "0           Deplaned            Low Fare  Terminal 1             B   \n",
       "1           Enplaned            Low Fare  Terminal 1             B   \n",
       "2     Thru / Transit            Low Fare  Terminal 1             B   \n",
       "\n",
       "   Passenger Count Adjusted Activity Type Code  Adjusted Passenger Count  \\\n",
       "0            27271                    Deplaned                     27271   \n",
       "1            29131                    Enplaned                     29131   \n",
       "2             5415          Thru / Transit * 2                     10830   \n",
       "\n",
       "   Year Month  \n",
       "0  2005  July  \n",
       "1  2005  July  \n",
       "2  2005  July  "
      ]
     },
     "execution_count": 3,
     "metadata": {},
     "output_type": "execute_result"
    }
   ],
   "source": [
    "# xem 3 cột đầu tiên.\n",
    "df.head(3)"
   ]
  },
  {
   "cell_type": "code",
   "execution_count": null,
   "id": "2ddbc008",
   "metadata": {},
   "outputs": [],
   "source": [
    "# chuyển Tháng sang năm và thêm vào dataframe\n",
    "month_map = {\n",
    "    \"January\": 1, \"February\": 2, \"March\": 3,\n",
    "    \"April\": 4, \"May\": 5, \"June\": 6,\n",
    "    \"July\": 7, \"August\": 8, \"September\": 9,\n",
    "    \"October\": 10, \"November\": 11, \"December\": 12\n",
    "}\n",
    "\n",
    "df['Month_number'] = df['Month'].map(month_map)"
   ]
  },
  {
   "cell_type": "code",
   "execution_count": null,
   "id": "bd906c62",
   "metadata": {},
   "outputs": [],
   "source": [
    "# chuyển Month qua sin và cos để thể hiện tính chu kì. để mô hình hiểu tháng 12 gần tháng 1 chẳng hạn.\n",
    "df['Month_sin'] = np.sin(2 * np.pi * df['Month_number'] / 12)\n",
    "df['Month_cos'] = np.cos(2 * np.pi * df['Month_number'] / 12)"
   ]
  },
  {
   "cell_type": "code",
   "execution_count": null,
   "id": "0f7c267f",
   "metadata": {},
   "outputs": [
    {
     "name": "stdout",
     "output_type": "stream",
     "text": [
      "{'Operating Airline': 77, 'GEO Region': 9, 'Activity Type Code': 3, 'Terminal': 5}\n"
     ]
    }
   ],
   "source": [
    "# danh sách tên các cột mà cần category nhằm mã hóa để huấn luyện mô hình\n",
    "cat_cols = [\"Operating Airline\", \"GEO Region\", \"Activity Type Code\", \"Terminal\"]\n",
    "# mã hóa catrgory từng cột. tạo cột mới thêm vào dataframe và lưu unique vào dictionaries\n",
    "num_categories = {}\n",
    "for col in cat_cols:\n",
    "    df[col] = df[col].astype(\"category\")\n",
    "    df[col + \"_code\"] = df[col].cat.codes\n",
    "    num_categories[col] = len(df[col].cat.categories)\n",
    "\n",
    "print(num_categories)\n",
    "\n",
    "num_airlines = num_categories[\"Operating Airline\"]\n",
    "num_regions = num_categories[\"GEO Region\"]\n",
    "num_activities = num_categories[\"Activity Type Code\"]\n",
    "num_terminals = num_categories[\"Terminal\"]\n"
   ]
  },
  {
   "cell_type": "code",
   "execution_count": 7,
   "id": "c321b5dc",
   "metadata": {},
   "outputs": [
    {
     "data": {
      "text/html": [
       "<div>\n",
       "<style scoped>\n",
       "    .dataframe tbody tr th:only-of-type {\n",
       "        vertical-align: middle;\n",
       "    }\n",
       "\n",
       "    .dataframe tbody tr th {\n",
       "        vertical-align: top;\n",
       "    }\n",
       "\n",
       "    .dataframe thead th {\n",
       "        text-align: right;\n",
       "    }\n",
       "</style>\n",
       "<table border=\"1\" class=\"dataframe\">\n",
       "  <thead>\n",
       "    <tr style=\"text-align: right;\">\n",
       "      <th></th>\n",
       "      <th>index</th>\n",
       "      <th>Activity Period</th>\n",
       "      <th>Operating Airline</th>\n",
       "      <th>Operating Airline IATA Code</th>\n",
       "      <th>Published Airline</th>\n",
       "      <th>Published Airline IATA Code</th>\n",
       "      <th>GEO Summary</th>\n",
       "      <th>GEO Region</th>\n",
       "      <th>Activity Type Code</th>\n",
       "      <th>Price Category Code</th>\n",
       "      <th>...</th>\n",
       "      <th>Adjusted Passenger Count</th>\n",
       "      <th>Year</th>\n",
       "      <th>Month</th>\n",
       "      <th>Month_number</th>\n",
       "      <th>Month_sin</th>\n",
       "      <th>Month_cos</th>\n",
       "      <th>Operating Airline_code</th>\n",
       "      <th>GEO Region_code</th>\n",
       "      <th>Activity Type Code_code</th>\n",
       "      <th>Terminal_code</th>\n",
       "    </tr>\n",
       "  </thead>\n",
       "  <tbody>\n",
       "    <tr>\n",
       "      <th>0</th>\n",
       "      <td>0</td>\n",
       "      <td>200507</td>\n",
       "      <td>ATA Airlines</td>\n",
       "      <td>TZ</td>\n",
       "      <td>ATA Airlines</td>\n",
       "      <td>TZ</td>\n",
       "      <td>Domestic</td>\n",
       "      <td>US</td>\n",
       "      <td>Deplaned</td>\n",
       "      <td>Low Fare</td>\n",
       "      <td>...</td>\n",
       "      <td>27271</td>\n",
       "      <td>2005</td>\n",
       "      <td>July</td>\n",
       "      <td>7</td>\n",
       "      <td>-0.5</td>\n",
       "      <td>-0.866025</td>\n",
       "      <td>0</td>\n",
       "      <td>8</td>\n",
       "      <td>0</td>\n",
       "      <td>2</td>\n",
       "    </tr>\n",
       "    <tr>\n",
       "      <th>1</th>\n",
       "      <td>1</td>\n",
       "      <td>200507</td>\n",
       "      <td>ATA Airlines</td>\n",
       "      <td>TZ</td>\n",
       "      <td>ATA Airlines</td>\n",
       "      <td>TZ</td>\n",
       "      <td>Domestic</td>\n",
       "      <td>US</td>\n",
       "      <td>Enplaned</td>\n",
       "      <td>Low Fare</td>\n",
       "      <td>...</td>\n",
       "      <td>29131</td>\n",
       "      <td>2005</td>\n",
       "      <td>July</td>\n",
       "      <td>7</td>\n",
       "      <td>-0.5</td>\n",
       "      <td>-0.866025</td>\n",
       "      <td>0</td>\n",
       "      <td>8</td>\n",
       "      <td>1</td>\n",
       "      <td>2</td>\n",
       "    </tr>\n",
       "    <tr>\n",
       "      <th>2</th>\n",
       "      <td>2</td>\n",
       "      <td>200507</td>\n",
       "      <td>ATA Airlines</td>\n",
       "      <td>TZ</td>\n",
       "      <td>ATA Airlines</td>\n",
       "      <td>TZ</td>\n",
       "      <td>Domestic</td>\n",
       "      <td>US</td>\n",
       "      <td>Thru / Transit</td>\n",
       "      <td>Low Fare</td>\n",
       "      <td>...</td>\n",
       "      <td>10830</td>\n",
       "      <td>2005</td>\n",
       "      <td>July</td>\n",
       "      <td>7</td>\n",
       "      <td>-0.5</td>\n",
       "      <td>-0.866025</td>\n",
       "      <td>0</td>\n",
       "      <td>8</td>\n",
       "      <td>2</td>\n",
       "      <td>2</td>\n",
       "    </tr>\n",
       "    <tr>\n",
       "      <th>3</th>\n",
       "      <td>3</td>\n",
       "      <td>200507</td>\n",
       "      <td>Air Canada</td>\n",
       "      <td>AC</td>\n",
       "      <td>Air Canada</td>\n",
       "      <td>AC</td>\n",
       "      <td>International</td>\n",
       "      <td>Canada</td>\n",
       "      <td>Deplaned</td>\n",
       "      <td>Other</td>\n",
       "      <td>...</td>\n",
       "      <td>35156</td>\n",
       "      <td>2005</td>\n",
       "      <td>July</td>\n",
       "      <td>7</td>\n",
       "      <td>-0.5</td>\n",
       "      <td>-0.866025</td>\n",
       "      <td>4</td>\n",
       "      <td>2</td>\n",
       "      <td>0</td>\n",
       "      <td>2</td>\n",
       "    </tr>\n",
       "    <tr>\n",
       "      <th>4</th>\n",
       "      <td>4</td>\n",
       "      <td>200507</td>\n",
       "      <td>Air Canada</td>\n",
       "      <td>AC</td>\n",
       "      <td>Air Canada</td>\n",
       "      <td>AC</td>\n",
       "      <td>International</td>\n",
       "      <td>Canada</td>\n",
       "      <td>Enplaned</td>\n",
       "      <td>Other</td>\n",
       "      <td>...</td>\n",
       "      <td>34090</td>\n",
       "      <td>2005</td>\n",
       "      <td>July</td>\n",
       "      <td>7</td>\n",
       "      <td>-0.5</td>\n",
       "      <td>-0.866025</td>\n",
       "      <td>4</td>\n",
       "      <td>2</td>\n",
       "      <td>1</td>\n",
       "      <td>2</td>\n",
       "    </tr>\n",
       "  </tbody>\n",
       "</table>\n",
       "<p>5 rows × 24 columns</p>\n",
       "</div>"
      ],
      "text/plain": [
       "   index  Activity Period Operating Airline Operating Airline IATA Code  \\\n",
       "0      0           200507      ATA Airlines                          TZ   \n",
       "1      1           200507      ATA Airlines                          TZ   \n",
       "2      2           200507      ATA Airlines                          TZ   \n",
       "3      3           200507       Air Canada                           AC   \n",
       "4      4           200507       Air Canada                           AC   \n",
       "\n",
       "  Published Airline Published Airline IATA Code    GEO Summary GEO Region  \\\n",
       "0      ATA Airlines                          TZ       Domestic         US   \n",
       "1      ATA Airlines                          TZ       Domestic         US   \n",
       "2      ATA Airlines                          TZ       Domestic         US   \n",
       "3       Air Canada                           AC  International     Canada   \n",
       "4       Air Canada                           AC  International     Canada   \n",
       "\n",
       "  Activity Type Code Price Category Code  ... Adjusted Passenger Count  Year  \\\n",
       "0           Deplaned            Low Fare  ...                    27271  2005   \n",
       "1           Enplaned            Low Fare  ...                    29131  2005   \n",
       "2     Thru / Transit            Low Fare  ...                    10830  2005   \n",
       "3           Deplaned               Other  ...                    35156  2005   \n",
       "4           Enplaned               Other  ...                    34090  2005   \n",
       "\n",
       "   Month Month_number  Month_sin  Month_cos Operating Airline_code  \\\n",
       "0   July            7       -0.5  -0.866025                      0   \n",
       "1   July            7       -0.5  -0.866025                      0   \n",
       "2   July            7       -0.5  -0.866025                      0   \n",
       "3   July            7       -0.5  -0.866025                      4   \n",
       "4   July            7       -0.5  -0.866025                      4   \n",
       "\n",
       "   GEO Region_code  Activity Type Code_code  Terminal_code  \n",
       "0                8                        0              2  \n",
       "1                8                        1              2  \n",
       "2                8                        2              2  \n",
       "3                2                        0              2  \n",
       "4                2                        1              2  \n",
       "\n",
       "[5 rows x 24 columns]"
      ]
     },
     "execution_count": 7,
     "metadata": {},
     "output_type": "execute_result"
    }
   ],
   "source": [
    "df.head()"
   ]
  },
  {
   "cell_type": "code",
   "execution_count": null,
   "id": "befbae7e",
   "metadata": {},
   "outputs": [],
   "source": [
    "# đặc trưng đầu vào\n",
    "FEATURE_INPUT = [\n",
    "    \"Year\", \"Month_sin\", \"Month_cos\", \"Adjusted Passenger Count\",\n",
    "    \"Operating Airline_code\", \"GEO Region_code\", \"Activity Type Code_code\", \"Terminal_code\"\n",
    "]\n",
    "# biến mục tiêu\n",
    "TARGET = \"Adjusted Passenger Count\"\n"
   ]
  },
  {
   "cell_type": "code",
   "execution_count": null,
   "id": "d6317664",
   "metadata": {},
   "outputs": [
    {
     "name": "stdout",
     "output_type": "stream",
     "text": [
      "X_seq: (14983, 24, 8)\n",
      "y_seq: (14983,)\n"
     ]
    }
   ],
   "source": [
    "# tạo cửa sổ tuần tự cho mô hình học.\n",
    "\n",
    "# chuẩn hóa  các cột có gía trị số\n",
    "num_features = [\"Year\", \"Month_sin\", \"Month_cos\", \"Adjusted Passenger Count\"]\n",
    "\n",
    "# dùng Standar Scaler để chuẩn hóa\n",
    "scaler_X = StandardScaler()\n",
    "X_num_scaled = scaler_X.fit_transform(df[num_features])\n",
    "\n",
    "# các cột mã hóa category\n",
    "cat_cols = [\"Operating Airline\", \"GEO Region\", \"Activity Type Code\", \"Terminal\"]\n",
    "\n",
    "num_categories = {}\n",
    "X_cat_codes = []\n",
    "for col in cat_cols:\n",
    "    df[col] = df[col].astype(\"category\")\n",
    "    codes = df[col].cat.codes.values\n",
    "    X_cat_codes.append(codes.reshape(-1, 1)) # type: ignore\n",
    "    num_categories[col] = len(df[col].cat.categories)\n",
    "\n",
    "X_cat_codes = np.hstack(X_cat_codes)\n",
    "\n",
    "# ghép X_cat và X_num lại thành X đầu vào\n",
    "X_all = np.hstack([X_num_scaled, X_cat_codes])\n",
    "\n",
    "# chuẩn hóa biến mục tiêu y\n",
    "scaler_y = StandardScaler()\n",
    "y_scaled = scaler_y.fit_transform(df[\"Passenger Count\"].values.reshape(-1, 1)).flatten() # type: ignore\n",
    "\n",
    "\n",
    "# tạo chuỗi tuần tự để huấn luyện mô hình.\n",
    "def build_sequences(X, y, seq_len=24):\n",
    "    X_seq, y_seq = [], []\n",
    "    for i in range(len(X) - seq_len):\n",
    "        X_seq.append(X[i:i+seq_len])\n",
    "        y_seq.append(y[i+seq_len])\n",
    "    return np.array(X_seq), np.array(y_seq)\n",
    "\n",
    "X_seq, y_seq = build_sequences(X_all, y_scaled, seq_len=24)\n",
    "\n",
    "# in cỡ của ma trận\n",
    "print(\"X_seq:\", X_seq.shape) \n",
    "print(\"y_seq:\", y_seq.shape)  \n"
   ]
  },
  {
   "cell_type": "code",
   "execution_count": null,
   "id": "d7a8825a",
   "metadata": {},
   "outputs": [],
   "source": [
    "# cấu hình kiến trúc mạng nơ ron GRU\n",
    "# 3 lớp, mỗi lớp có 256 nút, dropout 0.2 để tránh quá khớp, đầu ra là Linear với 1 node\n",
    "class PassengerGRU(nn.Module):\n",
    "    def __init__(self, num_airlines, num_regions, num_activities, num_terminals,\n",
    "                 input_dim_numeric, hidden_size=256, num_layers=3, dropout=0.2):\n",
    "        super().__init__()\n",
    "\n",
    "        self.airline_embed = nn.Embedding(num_airlines, 32)\n",
    "        self.region_embed = nn.Embedding(num_regions, 16)\n",
    "        self.activity_embed = nn.Embedding(num_activities, 8)\n",
    "        self.terminal_embed = nn.Embedding(num_terminals, 4)\n",
    "        \n",
    "        self.numeric_fc = nn.Linear(input_dim_numeric, 32)\n",
    "        \n",
    "        total_dim = 32 + 32 + 16 + 8 + 4\n",
    "        \n",
    "        self.gru = nn.GRU(total_dim, hidden_size, num_layers,\n",
    "                          batch_first=True, dropout=dropout)\n",
    "        \n",
    "        self.fc_out = nn.Linear(hidden_size, 1)\n",
    "\n",
    "    # lan truyền tiến\n",
    "    def forward(self, x_num, x_airline, x_region, x_activity, x_terminal):\n",
    "        num_feat = self.numeric_fc(x_num)\n",
    "        airline_feat = self.airline_embed(x_airline)\n",
    "        region_feat = self.region_embed(x_region)\n",
    "        activity_feat = self.activity_embed(x_activity)\n",
    "        terminal_feat = self.terminal_embed(x_terminal)\n",
    "\n",
    "        x = torch.cat([num_feat, airline_feat, region_feat,\n",
    "                       activity_feat, terminal_feat], dim=-1)\n",
    "        \n",
    "        out, _ = self.gru(x)  \n",
    "        \n",
    "        context = out[:, -1, :]  \n",
    "        return self.fc_out(context).squeeze(-1)\n"
   ]
  },
  {
   "cell_type": "code",
   "execution_count": null,
   "id": "5541b322",
   "metadata": {},
   "outputs": [],
   "source": [
    "# chia tập 80 20 để huấn luyện và kiểm tra\n",
    "X_train, X_val, y_train, y_val = train_test_split(\n",
    "    X_seq, y_seq, test_size=0.2, random_state=42, shuffle=True\n",
    ")\n",
    "\n",
    "# đưa vào cấu hình tensor \n",
    "X_train_tensor = torch.tensor(X_train, dtype=torch.float32).to(device)\n",
    "y_train_tensor = torch.tensor(y_train, dtype=torch.float32).to(device)\n",
    "X_val_tensor   = torch.tensor(X_val, dtype=torch.float32).to(device)\n",
    "y_val_tensor   = torch.tensor(y_val, dtype=torch.float32).to(device)\n",
    "\n",
    "train_dataset = TensorDataset(X_train_tensor, y_train_tensor)\n",
    "val_dataset   = TensorDataset(X_val_tensor, y_val_tensor)\n",
    "\n",
    "# batch size = 64\n",
    "train_loader = DataLoader(train_dataset, batch_size=64, shuffle=True)\n",
    "val_loader   = DataLoader(val_dataset, batch_size=64, shuffle=False)\n",
    "\n",
    "# gọi model và dùng device tức GPU để huấn luyện\n",
    "model = PassengerGRU(\n",
    "    num_airlines, num_regions, num_activities, num_terminals, input_dim_numeric=4\n",
    ").to(device)"
   ]
  },
  {
   "cell_type": "code",
   "execution_count": null,
   "id": "32cec74b",
   "metadata": {},
   "outputs": [
    {
     "name": "stderr",
     "output_type": "stream",
     "text": [
      "                                                                                         \r"
     ]
    },
    {
     "name": "stdout",
     "output_type": "stream",
     "text": [
      "Epoch 1/40 | Train Loss: 0.0358 | Val Loss: 0.0642 | RMSE: 14772.68 | MAE: 5823.42 | R²: 0.9344\n",
      "Saved new best model at epoch 1, Val Loss: 0.0642\n"
     ]
    },
    {
     "name": "stderr",
     "output_type": "stream",
     "text": [
      "                                                                                         \r"
     ]
    },
    {
     "name": "stdout",
     "output_type": "stream",
     "text": [
      "Epoch 2/40 | Train Loss: 0.0380 | Val Loss: 0.0636 | RMSE: 14705.41 | MAE: 5452.78 | R²: 0.9348\n",
      "Saved new best model at epoch 2, Val Loss: 0.0636\n"
     ]
    },
    {
     "name": "stderr",
     "output_type": "stream",
     "text": [
      "                                                                                         \r"
     ]
    },
    {
     "name": "stdout",
     "output_type": "stream",
     "text": [
      "Epoch 3/40 | Train Loss: 0.0339 | Val Loss: 0.0619 | RMSE: 14506.50 | MAE: 5820.77 | R²: 0.9377\n",
      "Saved new best model at epoch 3, Val Loss: 0.0619\n"
     ]
    },
    {
     "name": "stderr",
     "output_type": "stream",
     "text": [
      "                                                                                         \r"
     ]
    },
    {
     "name": "stdout",
     "output_type": "stream",
     "text": [
      "Epoch 4/40 | Train Loss: 0.0324 | Val Loss: 0.0674 | RMSE: 15134.54 | MAE: 5626.36 | R²: 0.9323\n"
     ]
    },
    {
     "name": "stderr",
     "output_type": "stream",
     "text": [
      "                                                                                         \r"
     ]
    },
    {
     "name": "stdout",
     "output_type": "stream",
     "text": [
      "Epoch 5/40 | Train Loss: 0.0327 | Val Loss: 0.0835 | RMSE: 16849.50 | MAE: 6079.38 | R²: 0.9145\n"
     ]
    },
    {
     "name": "stderr",
     "output_type": "stream",
     "text": [
      "                                                                                         \r"
     ]
    },
    {
     "name": "stdout",
     "output_type": "stream",
     "text": [
      "Epoch 6/40 | Train Loss: 0.0415 | Val Loss: 0.0535 | RMSE: 13491.34 | MAE: 5984.98 | R²: 0.9459\n",
      "Saved new best model at epoch 6, Val Loss: 0.0535\n"
     ]
    },
    {
     "name": "stderr",
     "output_type": "stream",
     "text": [
      "                                                                                         \r"
     ]
    },
    {
     "name": "stdout",
     "output_type": "stream",
     "text": [
      "Epoch 7/40 | Train Loss: 0.0392 | Val Loss: 0.0591 | RMSE: 14177.40 | MAE: 5763.47 | R²: 0.9402\n"
     ]
    },
    {
     "name": "stderr",
     "output_type": "stream",
     "text": [
      "                                                                                         \r"
     ]
    },
    {
     "name": "stdout",
     "output_type": "stream",
     "text": [
      "Epoch 8/40 | Train Loss: 0.0291 | Val Loss: 0.0852 | RMSE: 17025.11 | MAE: 6448.79 | R²: 0.9130\n"
     ]
    },
    {
     "name": "stderr",
     "output_type": "stream",
     "text": [
      "                                                                                         \r"
     ]
    },
    {
     "name": "stdout",
     "output_type": "stream",
     "text": [
      "Epoch 9/40 | Train Loss: 0.0369 | Val Loss: 0.0655 | RMSE: 14923.93 | MAE: 5557.69 | R²: 0.9336\n"
     ]
    },
    {
     "name": "stderr",
     "output_type": "stream",
     "text": [
      "                                                                                          \r"
     ]
    },
    {
     "name": "stdout",
     "output_type": "stream",
     "text": [
      "Epoch 10/40 | Train Loss: 0.0249 | Val Loss: 0.0722 | RMSE: 15665.54 | MAE: 5313.21 | R²: 0.9271\n"
     ]
    },
    {
     "name": "stderr",
     "output_type": "stream",
     "text": [
      "                                                                                          \r"
     ]
    },
    {
     "name": "stdout",
     "output_type": "stream",
     "text": [
      "Epoch 11/40 | Train Loss: 0.0225 | Val Loss: 0.0737 | RMSE: 15830.77 | MAE: 5168.42 | R²: 0.9256\n"
     ]
    },
    {
     "name": "stderr",
     "output_type": "stream",
     "text": [
      "                                                                                          \r"
     ]
    },
    {
     "name": "stdout",
     "output_type": "stream",
     "text": [
      "Epoch 12/40 | Train Loss: 0.0217 | Val Loss: 0.0781 | RMSE: 16301.96 | MAE: 5338.18 | R²: 0.9204\n"
     ]
    },
    {
     "name": "stderr",
     "output_type": "stream",
     "text": [
      "                                                                                          \r"
     ]
    },
    {
     "name": "stdout",
     "output_type": "stream",
     "text": [
      "Epoch 13/40 | Train Loss: 0.0562 | Val Loss: 0.1112 | RMSE: 19445.55 | MAE: 7605.36 | R²: 0.8860\n"
     ]
    },
    {
     "name": "stderr",
     "output_type": "stream",
     "text": [
      "                                                                                          \r"
     ]
    },
    {
     "name": "stdout",
     "output_type": "stream",
     "text": [
      "Epoch 14/40 | Train Loss: 0.0585 | Val Loss: 0.0667 | RMSE: 15058.59 | MAE: 6113.15 | R²: 0.9325\n"
     ]
    },
    {
     "name": "stderr",
     "output_type": "stream",
     "text": [
      "                                                                                          \r"
     ]
    },
    {
     "name": "stdout",
     "output_type": "stream",
     "text": [
      "Epoch 15/40 | Train Loss: 0.0398 | Val Loss: 0.0619 | RMSE: 14511.08 | MAE: 5585.31 | R²: 0.9376\n"
     ]
    },
    {
     "name": "stderr",
     "output_type": "stream",
     "text": [
      "                                                                                          \r"
     ]
    },
    {
     "name": "stdout",
     "output_type": "stream",
     "text": [
      "Epoch 16/40 | Train Loss: 0.0255 | Val Loss: 0.0788 | RMSE: 16370.01 | MAE: 5792.00 | R²: 0.9203\n"
     ]
    },
    {
     "name": "stderr",
     "output_type": "stream",
     "text": [
      "                                                                                          \r"
     ]
    },
    {
     "name": "stdout",
     "output_type": "stream",
     "text": [
      "Epoch 17/40 | Train Loss: 0.0208 | Val Loss: 0.0541 | RMSE: 13561.15 | MAE: 4933.59 | R²: 0.9458\n"
     ]
    },
    {
     "name": "stderr",
     "output_type": "stream",
     "text": [
      "                                                                                          \r"
     ]
    },
    {
     "name": "stdout",
     "output_type": "stream",
     "text": [
      "Epoch 18/40 | Train Loss: 0.0208 | Val Loss: 0.0643 | RMSE: 14791.01 | MAE: 5164.53 | R²: 0.9352\n"
     ]
    },
    {
     "name": "stderr",
     "output_type": "stream",
     "text": [
      "                                                                                          \r"
     ]
    },
    {
     "name": "stdout",
     "output_type": "stream",
     "text": [
      "Epoch 19/40 | Train Loss: 0.0235 | Val Loss: 0.0648 | RMSE: 14843.87 | MAE: 6662.59 | R²: 0.9348\n"
     ]
    },
    {
     "name": "stderr",
     "output_type": "stream",
     "text": [
      "                                                                                          \r"
     ]
    },
    {
     "name": "stdout",
     "output_type": "stream",
     "text": [
      "Epoch 20/40 | Train Loss: 0.0196 | Val Loss: 0.0584 | RMSE: 14093.14 | MAE: 4761.51 | R²: 0.9413\n"
     ]
    },
    {
     "name": "stderr",
     "output_type": "stream",
     "text": [
      "                                                                                          \r"
     ]
    },
    {
     "name": "stdout",
     "output_type": "stream",
     "text": [
      "Epoch 21/40 | Train Loss: 0.0169 | Val Loss: 0.0596 | RMSE: 14238.60 | MAE: 4809.05 | R²: 0.9402\n"
     ]
    },
    {
     "name": "stderr",
     "output_type": "stream",
     "text": [
      "                                                                                          \r"
     ]
    },
    {
     "name": "stdout",
     "output_type": "stream",
     "text": [
      "Epoch 22/40 | Train Loss: 0.0159 | Val Loss: 0.0699 | RMSE: 15419.94 | MAE: 4616.24 | R²: 0.9296\n"
     ]
    },
    {
     "name": "stderr",
     "output_type": "stream",
     "text": [
      "                                                                                          \r"
     ]
    },
    {
     "name": "stdout",
     "output_type": "stream",
     "text": [
      "Epoch 23/40 | Train Loss: 0.0172 | Val Loss: 0.0702 | RMSE: 15451.49 | MAE: 4917.77 | R²: 0.9292\n"
     ]
    },
    {
     "name": "stderr",
     "output_type": "stream",
     "text": [
      "                                                                                          \r"
     ]
    },
    {
     "name": "stdout",
     "output_type": "stream",
     "text": [
      "Epoch 24/40 | Train Loss: 0.0151 | Val Loss: 0.0715 | RMSE: 15599.03 | MAE: 4866.14 | R²: 0.9279\n"
     ]
    },
    {
     "name": "stderr",
     "output_type": "stream",
     "text": [
      "                                                                                          \r"
     ]
    },
    {
     "name": "stdout",
     "output_type": "stream",
     "text": [
      "Epoch 25/40 | Train Loss: 0.0143 | Val Loss: 0.0651 | RMSE: 14874.79 | MAE: 4978.26 | R²: 0.9346\n"
     ]
    },
    {
     "name": "stderr",
     "output_type": "stream",
     "text": [
      "                                                                                          \r"
     ]
    },
    {
     "name": "stdout",
     "output_type": "stream",
     "text": [
      "Epoch 26/40 | Train Loss: 0.0171 | Val Loss: 0.0762 | RMSE: 16096.31 | MAE: 5257.68 | R²: 0.9230\n"
     ]
    },
    {
     "name": "stderr",
     "output_type": "stream",
     "text": [
      "                                                                                          \r"
     ]
    },
    {
     "name": "stdout",
     "output_type": "stream",
     "text": [
      "Epoch 27/40 | Train Loss: 0.0198 | Val Loss: 0.0737 | RMSE: 15836.19 | MAE: 5299.05 | R²: 0.9257\n"
     ]
    },
    {
     "name": "stderr",
     "output_type": "stream",
     "text": [
      "                                                                                          \r"
     ]
    },
    {
     "name": "stdout",
     "output_type": "stream",
     "text": [
      "Epoch 28/40 | Train Loss: 0.0161 | Val Loss: 0.0704 | RMSE: 15476.92 | MAE: 5080.60 | R²: 0.9291\n"
     ]
    },
    {
     "name": "stderr",
     "output_type": "stream",
     "text": [
      "                                                                                          \r"
     ]
    },
    {
     "name": "stdout",
     "output_type": "stream",
     "text": [
      "Epoch 29/40 | Train Loss: 0.0191 | Val Loss: 0.0642 | RMSE: 14780.63 | MAE: 5001.57 | R²: 0.9350\n"
     ]
    },
    {
     "name": "stderr",
     "output_type": "stream",
     "text": [
      "                                                                                          \r"
     ]
    },
    {
     "name": "stdout",
     "output_type": "stream",
     "text": [
      "Epoch 30/40 | Train Loss: 0.0241 | Val Loss: 0.0685 | RMSE: 15260.03 | MAE: 5271.54 | R²: 0.9306\n"
     ]
    },
    {
     "name": "stderr",
     "output_type": "stream",
     "text": [
      "                                                                                          \r"
     ]
    },
    {
     "name": "stdout",
     "output_type": "stream",
     "text": [
      "Epoch 31/40 | Train Loss: 0.0284 | Val Loss: 0.0673 | RMSE: 15132.80 | MAE: 5587.82 | R²: 0.9313\n"
     ]
    },
    {
     "name": "stderr",
     "output_type": "stream",
     "text": [
      "                                                                                          \r"
     ]
    },
    {
     "name": "stdout",
     "output_type": "stream",
     "text": [
      "Epoch 32/40 | Train Loss: 0.0326 | Val Loss: 0.0702 | RMSE: 15449.90 | MAE: 6514.54 | R²: 0.9292\n"
     ]
    },
    {
     "name": "stderr",
     "output_type": "stream",
     "text": [
      "                                                                                          \r"
     ]
    },
    {
     "name": "stdout",
     "output_type": "stream",
     "text": [
      "Epoch 33/40 | Train Loss: 0.0265 | Val Loss: 0.0626 | RMSE: 14585.29 | MAE: 5477.38 | R²: 0.9372\n"
     ]
    },
    {
     "name": "stderr",
     "output_type": "stream",
     "text": [
      "                                                                                          \r"
     ]
    },
    {
     "name": "stdout",
     "output_type": "stream",
     "text": [
      "Epoch 34/40 | Train Loss: 0.0264 | Val Loss: 0.0690 | RMSE: 15322.98 | MAE: 5486.78 | R²: 0.9306\n"
     ]
    },
    {
     "name": "stderr",
     "output_type": "stream",
     "text": [
      "                                                                                          \r"
     ]
    },
    {
     "name": "stdout",
     "output_type": "stream",
     "text": [
      "Epoch 35/40 | Train Loss: 0.0185 | Val Loss: 0.0594 | RMSE: 14211.70 | MAE: 4783.96 | R²: 0.9402\n"
     ]
    },
    {
     "name": "stderr",
     "output_type": "stream",
     "text": [
      "                                                                                          \r"
     ]
    },
    {
     "name": "stdout",
     "output_type": "stream",
     "text": [
      "Epoch 36/40 | Train Loss: 0.0195 | Val Loss: 0.0615 | RMSE: 14461.01 | MAE: 4972.62 | R²: 0.9380\n"
     ]
    },
    {
     "name": "stderr",
     "output_type": "stream",
     "text": [
      "                                                                                          \r"
     ]
    },
    {
     "name": "stdout",
     "output_type": "stream",
     "text": [
      "Epoch 37/40 | Train Loss: 0.0208 | Val Loss: 0.0576 | RMSE: 14001.18 | MAE: 5490.53 | R²: 0.9418\n"
     ]
    },
    {
     "name": "stderr",
     "output_type": "stream",
     "text": [
      "                                                                                          \r"
     ]
    },
    {
     "name": "stdout",
     "output_type": "stream",
     "text": [
      "Epoch 38/40 | Train Loss: 0.0267 | Val Loss: 0.0745 | RMSE: 15919.62 | MAE: 5577.15 | R²: 0.9250\n"
     ]
    },
    {
     "name": "stderr",
     "output_type": "stream",
     "text": [
      "                                                                                          \r"
     ]
    },
    {
     "name": "stdout",
     "output_type": "stream",
     "text": [
      "Epoch 39/40 | Train Loss: 0.0262 | Val Loss: 0.0504 | RMSE: 13089.48 | MAE: 4995.36 | R²: 0.9498\n",
      "Saved new best model at epoch 39, Val Loss: 0.0504\n"
     ]
    },
    {
     "name": "stderr",
     "output_type": "stream",
     "text": [
      "                                                                                          "
     ]
    },
    {
     "name": "stdout",
     "output_type": "stream",
     "text": [
      "Epoch 40/40 | Train Loss: 0.0257 | Val Loss: 0.0555 | RMSE: 13737.84 | MAE: 4783.14 | R²: 0.9445\n"
     ]
    },
    {
     "name": "stderr",
     "output_type": "stream",
     "text": [
      "\r"
     ]
    }
   ],
   "source": [
    "best_val_loss = float(\"inf\")\n",
    "# dùng MSE loss\n",
    "loss_fn = nn.MSELoss()\n",
    "# dùng tối ưu ADAM với learning rate là 10^-3\n",
    "optimizer = torch.optim.Adam(model.parameters(), lr=1e-3)\n",
    "\n",
    "# huấn luyện 40 qua toàn bộ train và kiểm trên test\n",
    "EPOCHS = 40\n",
    "\n",
    "for epoch in range(EPOCHS):\n",
    "    model.train()\n",
    "    total_train_loss = 0.0\n",
    "\n",
    "    train_bar = tqdm(train_loader, desc=f\"Epoch {epoch+1}/{EPOCHS} [Train]\", leave=False)\n",
    "    for xb, yb in train_bar:\n",
    "        x_num = xb[:, :, :4].to(device)\n",
    "        x_airline = xb[:, :, 4].long().to(device)\n",
    "        x_region = xb[:, :, 5].long().to(device)\n",
    "        x_activity = xb[:, :, 6].long().to(device)\n",
    "        x_terminal = xb[:, :, 7].long().to(device)\n",
    "        yb = yb.to(device)\n",
    "\n",
    "        preds = model(x_num, x_airline, x_region, x_activity, x_terminal)\n",
    "        loss = loss_fn(preds, yb)\n",
    "\n",
    "        optimizer.zero_grad()\n",
    "        loss.backward()\n",
    "        optimizer.step()\n",
    "\n",
    "        total_train_loss += loss.item()\n",
    "        train_bar.set_postfix({\"batch_loss\": f\"{loss.item():.4f}\"})\n",
    "\n",
    "    avg_train_loss = total_train_loss / len(train_loader)\n",
    "\n",
    "\n",
    "    model.eval()\n",
    "    total_val_loss = 0.0\n",
    "    all_preds, all_true = [], []\n",
    "\n",
    "    val_bar = tqdm(val_loader, desc=f\"Epoch {epoch+1}/{EPOCHS} [Val]\", leave=False)\n",
    "    with torch.no_grad():\n",
    "        for xb, yb in val_bar:\n",
    "            x_num = xb[:, :, :4].to(device)\n",
    "            x_airline = xb[:, :, 4].long().to(device)\n",
    "            x_region = xb[:, :, 5].long().to(device)\n",
    "            x_activity = xb[:, :, 6].long().to(device)\n",
    "            x_terminal = xb[:, :, 7].long().to(device)\n",
    "            yb = yb.to(device)\n",
    "\n",
    "            preds = model(x_num, x_airline, x_region, x_activity, x_terminal)\n",
    "            loss = loss_fn(preds, yb)\n",
    "\n",
    "            total_val_loss += loss.item()\n",
    "            all_preds.append(preds.cpu().numpy())\n",
    "            all_true.append(yb.cpu().numpy())\n",
    "\n",
    "            val_bar.set_postfix({\"batch_loss\": f\"{loss.item():.4f}\"})\n",
    "\n",
    "    avg_val_loss = total_val_loss / len(val_loader)\n",
    "\n",
    "    all_preds = np.concatenate(all_preds)\n",
    "    all_true = np.concatenate(all_true)\n",
    "    rmse_scaled = np.sqrt(avg_val_loss)\n",
    "\n",
    "    rmse_original = rmse_scaled * scaler_y.scale_[0]# type: ignore\n",
    "\n",
    "    mae_original = mean_absolute_error(\n",
    "        scaler_y.inverse_transform(all_true.reshape(-1, 1)),\n",
    "        scaler_y.inverse_transform(all_preds.reshape(-1, 1))\n",
    "    )\n",
    "\n",
    "    r2 = r2_score(\n",
    "        scaler_y.inverse_transform(all_true.reshape(-1, 1)),\n",
    "        scaler_y.inverse_transform(all_preds.reshape(-1, 1))\n",
    "    )\n",
    "\n",
    "    # in các metrics đánh giá\n",
    "    print(\n",
    "        f\"Epoch {epoch+1}/{EPOCHS} | \"\n",
    "        f\"Train Loss: {avg_train_loss:.4f} | \"\n",
    "        f\"Val Loss: {avg_val_loss:.4f} | \"\n",
    "        f\"RMSE: {rmse_original:.2f} | \"\n",
    "        f\"MAE: {mae_original:.2f} | \"\n",
    "        f\"R²: {r2:.4f}\"\n",
    "    )\n",
    "    # lưu mô hình tốt nhất.\n",
    "    if avg_val_loss < best_val_loss:\n",
    "        best_val_loss = avg_val_loss\n",
    "        torch.save(model.state_dict(), \"gru_passenger_best.pt\")\n",
    "        print(f\"Saved new best model at epoch {epoch+1}, Val Loss: {avg_val_loss:.4f}\")\n",
    "    "
   ]
  },
  {
   "cell_type": "code",
   "execution_count": null,
   "id": "33a766b0",
   "metadata": {},
   "outputs": [
    {
     "data": {
      "text/plain": [
       "['scaler_y.pkl']"
      ]
     },
     "execution_count": 16,
     "metadata": {},
     "output_type": "execute_result"
    }
   ],
   "source": [
    "# lưu mean và std chuân quá lấy từ Standar Scaler\n",
    "joblib.dump(scaler_X, \"scaler_X.pkl\")\n",
    "joblib.dump(scaler_y, \"scaler_y.pkl\")"
   ]
  }
 ],
 "metadata": {
  "kernelspec": {
   "display_name": "_lib",
   "language": "python",
   "name": "python3"
  },
  "language_info": {
   "codemirror_mode": {
    "name": "ipython",
    "version": 3
   },
   "file_extension": ".py",
   "mimetype": "text/x-python",
   "name": "python",
   "nbconvert_exporter": "python",
   "pygments_lexer": "ipython3",
   "version": "3.12.3"
  }
 },
 "nbformat": 4,
 "nbformat_minor": 5
}
